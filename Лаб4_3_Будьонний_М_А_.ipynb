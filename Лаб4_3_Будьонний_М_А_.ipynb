{
  "nbformat": 4,
  "nbformat_minor": 0,
  "metadata": {
    "colab": {
      "provenance": []
    },
    "kernelspec": {
      "name": "python3",
      "display_name": "Python 3"
    },
    "language_info": {
      "name": "python"
    }
  },
  "cells": [
    {
      "cell_type": "code",
      "source": [
        "#Завантажуємо необхідні бібліотеки\n",
        "import matplotlib.pyplot as plt"
      ],
      "metadata": {
        "id": "S7PW2rHcsQMS"
      },
      "execution_count": 1,
      "outputs": []
    },
    {
      "cell_type": "code",
      "execution_count": 2,
      "metadata": {
        "id": "kXK9WxJvd6gZ"
      },
      "outputs": [],
      "source": [
        "#Реалізація функції draw_carpet, яка малює килим Серпінського на заданому рівні вкладеності.\n",
        "def draw_carpet(ax, x, y, size, level):\n",
        "    if level == 0:\n",
        "        ax.add_patch(plt.Rectangle((x, y), size, size, facecolor='black'))\n",
        "    else:\n",
        "        new_size = size / 3\n",
        "        for i in range(3):\n",
        "            for j in range(3):\n",
        "                if i != 1 or j != 1:\n",
        "                    draw_carpet(ax, x + i * new_size, y + j * new_size, new_size, level - 1)"
      ]
    },
    {
      "cell_type": "code",
      "source": [
        "# Введення рівня рекурсії та розміру килима\n",
        "level = int(input(\"Введіть рівень рекурсії (рекомендовано від 0 до 5): \"))\n",
        "size = 300"
      ],
      "metadata": {
        "colab": {
          "base_uri": "https://localhost:8080/"
        },
        "id": "dgsn8pt4sWRb",
        "outputId": "9d9a0513-d194-46c3-d35d-f950870b66ca"
      },
      "execution_count": 4,
      "outputs": [
        {
          "name": "stdout",
          "output_type": "stream",
          "text": [
            "Введіть рівень рекурсії (рекомендовано від 0 до 5): 1\n"
          ]
        }
      ]
    },
    {
      "cell_type": "code",
      "source": [
        "# Побудова килима Серпінського\n",
        "fig, ax = plt.subplots()\n",
        "draw_carpet(ax, 0, 0, size, level)\n",
        "ax.set_xlim(0, size)\n",
        "ax.set_ylim(0, size)\n",
        "ax.set_aspect('equal', 'box')\n",
        "ax.axis('off')\n",
        "plt.show()"
      ],
      "metadata": {
        "colab": {
          "base_uri": "https://localhost:8080/",
          "height": 406
        },
        "id": "143T_ywssWuV",
        "outputId": "e68d87b3-e73a-4daf-eec6-7a1aa023b02a"
      },
      "execution_count": 6,
      "outputs": [
        {
          "output_type": "display_data",
          "data": {
            "text/plain": [
              "<Figure size 640x480 with 1 Axes>"
            ],
            "image/png": "[encoded data removed]"
          },
          "metadata": {}
        }
      ]
    },
    {
      "cell_type": "markdown",
      "source": [
        "Отже, у висновку: Цей процес демонструє, як візуально складні та красиві структури можуть бути побудовані за допомогою простих правил та ітераційного процесу. Такий вивчення допомагає вдосконалювати навички програмування та алгоритмічного мислення, а також дає можливість застосовувати ці знання у візуальних та графічних задачах."
      ],
      "metadata": {
        "id": "UOCjrlE0uDxk"
      }
    }
  ]
}