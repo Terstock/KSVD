{
  "nbformat": 4,
  "nbformat_minor": 0,
  "metadata": {
    "colab": {
      "provenance": []
    },
    "kernelspec": {
      "name": "python3",
      "display_name": "Python 3"
    },
    "language_info": {
      "name": "python"
    }
  },
  "cells": [
    {
      "cell_type": "code",
      "execution_count": 2,
      "metadata": {
        "colab": {
          "base_uri": "https://localhost:8080/"
        },
        "id": "0t7mO5h9zMu_",
        "outputId": "3b572adf-ba7a-4359-b0f5-b67ebf953fcc"
      },
      "outputs": [
        {
          "output_type": "stream",
          "name": "stdout",
          "text": [
            "Collecting pyspark==3.0.1\n",
            "  Downloading pyspark-3.0.1.tar.gz (204.2 MB)\n",
            "\u001b[2K     \u001b[90m━━━━━━━━━━━━━━━━━━━━━━━━━━━━━━━━━━━━━━━━\u001b[0m \u001b[32m204.2/204.2 MB\u001b[0m \u001b[31m2.6 MB/s\u001b[0m eta \u001b[36m0:00:00\u001b[0m\n",
            "\u001b[?25h  Preparing metadata (setup.py) ... \u001b[?25l\u001b[?25hdone\n",
            "Collecting py4j==0.10.9\n",
            "  Downloading py4j-0.10.9-py2.py3-none-any.whl (198 kB)\n",
            "\u001b[2K     \u001b[90m━━━━━━━━━━━━━━━━━━━━━━━━━━━━━━━━━━━━━━━━\u001b[0m \u001b[32m198.6/198.6 kB\u001b[0m \u001b[31m11.0 MB/s\u001b[0m eta \u001b[36m0:00:00\u001b[0m\n",
            "\u001b[?25hBuilding wheels for collected packages: pyspark\n",
            "  Building wheel for pyspark (setup.py) ... \u001b[?25l\u001b[?25hdone\n",
            "  Created wheel for pyspark: filename=pyspark-3.0.1-py2.py3-none-any.whl size=204612223 sha256=f9c0bb5307751b898d0675d4d758bef36509350550ae53f5e3e50ac474eb275d\n",
            "  Stored in directory: /root/.cache/pip/wheels/19/b0/c8/6cb894117070e130fc44352c2a13f15b6c27e440d04a84fb48\n",
            "Successfully built pyspark\n",
            "Installing collected packages: py4j, pyspark\n",
            "  Attempting uninstall: py4j\n",
            "    Found existing installation: py4j 0.10.9.7\n",
            "    Uninstalling py4j-0.10.9.7:\n",
            "      Successfully uninstalled py4j-0.10.9.7\n",
            "Successfully installed py4j-0.10.9 pyspark-3.0.1\n"
          ]
        }
      ],
      "source": [
        "#Встановлюємо необхідні дані\n",
        "!pip install pyspark==3.0.1 py4j==0.10.9"
      ]
    },
    {
      "cell_type": "code",
      "source": [
        "#Імпортуємо pyspark\n",
        "from pyspark.sql import SparkSession\n",
        "\n",
        "spark = SparkSession.builder\\\n",
        "        .master(\"local[*]\")\\\n",
        "        .appName('PySpark_Tutorial')\\\n",
        "        .getOrCreate()"
      ],
      "metadata": {
        "id": "dYjH0qQDzeuE"
      },
      "execution_count": 3,
      "outputs": []
    },
    {
      "cell_type": "code",
      "source": [
        "#Виводимо схему даних за допомогою PrintSchema\n",
        "data = spark.read.csv(\n",
        "    'bestsellers with categories.csv',\n",
        "    sep=',',\n",
        "    header=True,\n",
        ")\n",
        "\n",
        "data.printSchema()"
      ],
      "metadata": {
        "colab": {
          "base_uri": "https://localhost:8080/"
        },
        "id": "DtCL-TBX5jw_",
        "outputId": "b9291a29-e671-4244-a520-13c11890d465"
      },
      "execution_count": 5,
      "outputs": [
        {
          "output_type": "stream",
          "name": "stdout",
          "text": [
            "root\n",
            " |-- Name: string (nullable = true)\n",
            " |-- Author: string (nullable = true)\n",
            " |-- User Rating: string (nullable = true)\n",
            " |-- Reviews: string (nullable = true)\n",
            " |-- Price: string (nullable = true)\n",
            " |-- Year: string (nullable = true)\n",
            " |-- Genre: string (nullable = true)\n",
            "\n"
          ]
        }
      ]
    },
    {
      "cell_type": "code",
      "source": [
        "author_with_highest_rating = data.orderBy(data['User Rating'].desc()).select('Author').first()[0]\n",
        "\n",
        "# Виведення автора з найвищим рейтингом\n",
        "print(\"Автор з найвищим рейтингом:\", author_with_highest_rating)"
      ],
      "metadata": {
        "colab": {
          "base_uri": "https://localhost:8080/"
        },
        "id": "-4Dru9uL-M1v",
        "outputId": "6303c25a-7dea-4643-e9de-6635131f21c9"
      },
      "execution_count": 7,
      "outputs": [
        {
          "output_type": "stream",
          "name": "stdout",
          "text": [
            "Автор з найвищим рейтингом: Bill Martin Jr.\n"
          ]
        }
      ]
    },
    {
      "cell_type": "code",
      "source": [
        "author_with_lowest_rating = data.orderBy(data['User Rating']).select('Author').first()[0]\n",
        "\n",
        "# Виведення автора з найнижчим рейтингом\n",
        "print(\"Автор з найнижчим рейтингом:\", author_with_lowest_rating)"
      ],
      "metadata": {
        "colab": {
          "base_uri": "https://localhost:8080/"
        },
        "id": "tMDqNdFI-rDe",
        "outputId": "2e868e49-6c2f-4231-ffe6-1a89b60f3046"
      },
      "execution_count": 9,
      "outputs": [
        {
          "output_type": "stream",
          "name": "stdout",
          "text": [
            "Автор з найнижчим рейтингом: J.K. Rowling\n"
          ]
        }
      ]
    },
    {
      "cell_type": "code",
      "source": [
        "#Виводимо назви стовпців і типи даних за допомогою dtypes\n",
        "import pandas as pd\n",
        "\n",
        "# Конвертація DataFrame у pandas DataFrame\n",
        "pandas_df = data.toPandas()\n",
        "\n",
        "# Виведення назв стовпців і типів даних\n",
        "print(pandas_df.dtypes)"
      ],
      "metadata": {
        "colab": {
          "base_uri": "https://localhost:8080/"
        },
        "id": "v31jxPnNzz2Q",
        "outputId": "ec0ea562-219c-4c2d-db2e-4d6115ba094c"
      },
      "execution_count": 14,
      "outputs": [
        {
          "output_type": "stream",
          "name": "stdout",
          "text": [
            "Name           object\n",
            "Author         object\n",
            "User Rating    object\n",
            "Reviews        object\n",
            "Price          object\n",
            "Year           object\n",
            "Genre          object\n",
            "dtype: object\n"
          ]
        }
      ]
    },
    {
      "cell_type": "code",
      "source": [
        "#Виводимо перші п'ять рядків (використовується метод head)\n",
        "data.head(5)"
      ],
      "metadata": {
        "colab": {
          "base_uri": "https://localhost:8080/"
        },
        "id": "xFsq-wzF0HJi",
        "outputId": "d45fad8a-c958-41e5-f8b3-828a14ff20cc"
      },
      "execution_count": 15,
      "outputs": [
        {
          "output_type": "execute_result",
          "data": {
            "text/plain": [
              "[Row(Name='10-Day Green Smoothie Cleanse', Author='JJ Smith', User Rating='4.7', Reviews='17350', Price='8', Year='2016', Genre='Non Fiction'),\n",
              " Row(Name='11/22/63: A Novel', Author='Stephen King', User Rating='4.6', Reviews='2052', Price='22', Year='2011', Genre='Fiction'),\n",
              " Row(Name='12 Rules for Life: An Antidote to Chaos', Author='Jordan B. Peterson', User Rating='4.7', Reviews='18979', Price='15', Year='2018', Genre='Non Fiction'),\n",
              " Row(Name='1984 (Signet Classics)', Author='George Orwell', User Rating='4.7', Reviews='21424', Price='6', Year='2017', Genre='Fiction'),\n",
              " Row(Name='5,000 Awesome Facts (About Everything!) (National Geographic Kids)', Author='National Geographic Kids', User Rating='4.8', Reviews='7665', Price='12', Year='2019', Genre='Non Fiction')]"
            ]
          },
          "metadata": {},
          "execution_count": 15
        }
      ]
    },
    {
      "cell_type": "code",
      "source": [
        "#Виводимо перший рядок за допомогою first()\n",
        "first_row = data.first()\n",
        "print(first_row)"
      ],
      "metadata": {
        "colab": {
          "base_uri": "https://localhost:8080/"
        },
        "id": "Wr3No-ew0nB3",
        "outputId": "7503186c-f0c0-4ecd-8e23-e416638e1a0b"
      },
      "execution_count": 16,
      "outputs": [
        {
          "output_type": "stream",
          "name": "stdout",
          "text": [
            "Row(Name='10-Day Green Smoothie Cleanse', Author='JJ Smith', User Rating='4.7', Reviews='17350', Price='8', Year='2016', Genre='Non Fiction')\n"
          ]
        }
      ]
    },
    {
      "cell_type": "code",
      "source": [
        "#Робимо опис датасету за допомогою describe()\n",
        "data.describe().show()"
      ],
      "metadata": {
        "colab": {
          "base_uri": "https://localhost:8080/"
        },
        "id": "wpFEPaQG0qfa",
        "outputId": "af5d06bb-7ec0-4e5a-bdda-4a83b7c95d48"
      },
      "execution_count": 17,
      "outputs": [
        {
          "output_type": "stream",
          "name": "stdout",
          "text": [
            "+-------+--------------------+----------------+-------------------+------------------+------------------+------------------+-----------+\n",
            "|summary|                Name|          Author|        User Rating|           Reviews|             Price|              Year|      Genre|\n",
            "+-------+--------------------+----------------+-------------------+------------------+------------------+------------------+-----------+\n",
            "|  count|                 550|             550|                550|               550|               550|               550|        550|\n",
            "|   mean|                null|            null|  4.618363636363641|11953.281818181818|              13.1|            2014.0|       null|\n",
            "| stddev|                null|            null|0.22698036502519656|11731.132017431892|10.842261978422364|3.1651563841692782|       null|\n",
            "|    min|\"The Plant Parado...|Abraham Verghese|                3.3|             10009|                 0|              2009|    Fiction|\n",
            "|    max|You Are a Badass:...|    Zhi Gang Sha|                4.9|              9967|                 9|              2019|Non Fiction|\n",
            "+-------+--------------------+----------------+-------------------+------------------+------------------+------------------+-----------+\n",
            "\n"
          ]
        }
      ]
    },
    {
      "cell_type": "code",
      "source": [
        "#Виводимо список стовпців за допомогою columns()\n",
        "print(data.columns)"
      ],
      "metadata": {
        "colab": {
          "base_uri": "https://localhost:8080/"
        },
        "id": "7slOtiUE02Ik",
        "outputId": "94854e3b-ca20-43f6-caeb-8d9665143a03"
      },
      "execution_count": 18,
      "outputs": [
        {
          "output_type": "stream",
          "name": "stdout",
          "text": [
            "['Name', 'Author', 'User Rating', 'Reviews', 'Price', 'Year', 'Genre']\n"
          ]
        }
      ]
    },
    {
      "cell_type": "code",
      "source": [
        "#Виводимо загальну кількість рядків даних за допомогою count()\n",
        "data.count()"
      ],
      "metadata": {
        "colab": {
          "base_uri": "https://localhost:8080/"
        },
        "id": "ZQYAgqzcC3nJ",
        "outputId": "369b48a0-41b1-43b3-8c48-57be2c133399"
      },
      "execution_count": 19,
      "outputs": [
        {
          "output_type": "execute_result",
          "data": {
            "text/plain": [
              "550"
            ]
          },
          "metadata": {},
          "execution_count": 19
        }
      ]
    },
    {
      "cell_type": "code",
      "source": [
        "data = data.na.drop()\n",
        "\n",
        "# Заміна типів даних на числовий\n",
        "from pyspark.sql.types import FloatType\n",
        "\n",
        "# Функція для перетворення типів даних на числовий\n",
        "def to_numeric(col):\n",
        "    return col.cast(FloatType())\n",
        "\n",
        "# Перетворення типів даних для кожного стовпця\n",
        "for column in data.columns:\n",
        "    data = data.withColumn(column, to_numeric(data[column]))\n",
        "\n",
        "# Вивід схеми даних після заміни типів\n",
        "data.printSchema()"
      ],
      "metadata": {
        "colab": {
          "base_uri": "https://localhost:8080/"
        },
        "id": "3Y3xsLJjC6Cp",
        "outputId": "36ccd263-7048-437d-bbc2-93c81331b246"
      },
      "execution_count": 20,
      "outputs": [
        {
          "output_type": "stream",
          "name": "stdout",
          "text": [
            "root\n",
            " |-- Name: float (nullable = true)\n",
            " |-- Author: float (nullable = true)\n",
            " |-- User Rating: float (nullable = true)\n",
            " |-- Reviews: float (nullable = true)\n",
            " |-- Price: float (nullable = true)\n",
            " |-- Year: float (nullable = true)\n",
            " |-- Genre: float (nullable = true)\n",
            "\n"
          ]
        }
      ]
    },
    {
      "cell_type": "code",
      "source": [
        "from pyspark.sql.functions import mean\n",
        "\n",
        "# Обчислення середніх значень за стовпцем\n",
        "mean_values = data.agg(*(mean(column).alias(column) for column in data.columns)).first().asDict()\n",
        "\n",
        "# Заміна пропущених значень на середні за стовпцем\n",
        "for column in data.columns:\n",
        "    data = data.withColumn(column, F.when(data[column].isNull(), mean_values[column]).otherwise(data[column]))\n",
        "\n",
        "# Перетворення типів даних на числовий\n",
        "for column in data.columns:\n",
        "    data = data.withColumn(column, data[column].cast('float'))\n",
        "\n",
        "# Вивід схеми даних після заміни типів\n",
        "data.printSchema()"
      ],
      "metadata": {
        "colab": {
          "base_uri": "https://localhost:8080/",
          "height": 219
        },
        "id": "sbdj319DDCLb",
        "outputId": "59ec2330-9b3e-453e-cd6f-b1556a625418"
      },
      "execution_count": 21,
      "outputs": [
        {
          "output_type": "error",
          "ename": "NameError",
          "evalue": "name 'F' is not defined",
          "traceback": [
            "\u001b[0;31m---------------------------------------------------------------------------\u001b[0m",
            "\u001b[0;31mNameError\u001b[0m                                 Traceback (most recent call last)",
            "\u001b[0;32m<ipython-input-21-a6d8d456726e>\u001b[0m in \u001b[0;36m<cell line: 7>\u001b[0;34m()\u001b[0m\n\u001b[1;32m      6\u001b[0m \u001b[0;31m# Заміна пропущених значень на середні за стовпцем\u001b[0m\u001b[0;34m\u001b[0m\u001b[0;34m\u001b[0m\u001b[0m\n\u001b[1;32m      7\u001b[0m \u001b[0;32mfor\u001b[0m \u001b[0mcolumn\u001b[0m \u001b[0;32min\u001b[0m \u001b[0mdata\u001b[0m\u001b[0;34m.\u001b[0m\u001b[0mcolumns\u001b[0m\u001b[0;34m:\u001b[0m\u001b[0;34m\u001b[0m\u001b[0;34m\u001b[0m\u001b[0m\n\u001b[0;32m----> 8\u001b[0;31m     \u001b[0mdata\u001b[0m \u001b[0;34m=\u001b[0m \u001b[0mdata\u001b[0m\u001b[0;34m.\u001b[0m\u001b[0mwithColumn\u001b[0m\u001b[0;34m(\u001b[0m\u001b[0mcolumn\u001b[0m\u001b[0;34m,\u001b[0m \u001b[0mF\u001b[0m\u001b[0;34m.\u001b[0m\u001b[0mwhen\u001b[0m\u001b[0;34m(\u001b[0m\u001b[0mdata\u001b[0m\u001b[0;34m[\u001b[0m\u001b[0mcolumn\u001b[0m\u001b[0;34m]\u001b[0m\u001b[0;34m.\u001b[0m\u001b[0misNull\u001b[0m\u001b[0;34m(\u001b[0m\u001b[0;34m)\u001b[0m\u001b[0;34m,\u001b[0m \u001b[0mmean_values\u001b[0m\u001b[0;34m[\u001b[0m\u001b[0mcolumn\u001b[0m\u001b[0;34m]\u001b[0m\u001b[0;34m)\u001b[0m\u001b[0;34m.\u001b[0m\u001b[0motherwise\u001b[0m\u001b[0;34m(\u001b[0m\u001b[0mdata\u001b[0m\u001b[0;34m[\u001b[0m\u001b[0mcolumn\u001b[0m\u001b[0;34m]\u001b[0m\u001b[0;34m)\u001b[0m\u001b[0;34m)\u001b[0m\u001b[0;34m\u001b[0m\u001b[0;34m\u001b[0m\u001b[0m\n\u001b[0m\u001b[1;32m      9\u001b[0m \u001b[0;34m\u001b[0m\u001b[0m\n\u001b[1;32m     10\u001b[0m \u001b[0;31m# Перетворення типів даних на числовий\u001b[0m\u001b[0;34m\u001b[0m\u001b[0;34m\u001b[0m\u001b[0m\n",
            "\u001b[0;31mNameError\u001b[0m: name 'F' is not defined"
          ]
        }
      ]
    },
    {
      "cell_type": "code",
      "source": [
        "#Про скільки книг зберігає дані датасет?\n",
        "total_books = data.count()\n",
        "print(\"Загальна кількість книг у датасеті:\", total_books)"
      ],
      "metadata": {
        "colab": {
          "base_uri": "https://localhost:8080/"
        },
        "id": "Q92xehmyDrM8",
        "outputId": "ee012582-01d6-45ba-8dc9-86ebd6c7ae0f"
      },
      "execution_count": 22,
      "outputs": [
        {
          "output_type": "stream",
          "name": "stdout",
          "text": [
            "Загальна кількість книг у датасеті: 550\n"
          ]
        }
      ]
    },
    {
      "cell_type": "code",
      "source": [
        "#Зміна назви всіх колонок\n",
        "new_columns = ['name', 'author', 'user_rating', 'reviews', 'price', 'year', 'genre']\n",
        "data = data.toDF(*new_columns)"
      ],
      "metadata": {
        "id": "ywJhnH1MDxCY"
      },
      "execution_count": 23,
      "outputs": []
    },
    {
      "cell_type": "code",
      "source": [
        "author_reviews_sum = data.groupBy('author').agg(F.sum('reviews').alias('total_reviews'))\n",
        "\n",
        "#Сортування дані за спаданням суми рецензій\n",
        "author_with_most_reviews = author_reviews_sum.orderBy(author_reviews_sum['total_reviews'].desc()).select('author').first()[0]\n",
        "\n",
        "#Виведення автора з найбільшою кількістю рецензій\n",
        "print(\"Автор з найбільшою кількістю рецензій:\", author_with_most_reviews)"
      ],
      "metadata": {
        "colab": {
          "base_uri": "https://localhost:8080/",
          "height": 219
        },
        "id": "lAwqX67DDfwS",
        "outputId": "b6ea4b0e-e50b-426c-b98e-e32c11b5ba68"
      },
      "execution_count": 25,
      "outputs": [
        {
          "output_type": "error",
          "ename": "NameError",
          "evalue": "name 'F' is not defined",
          "traceback": [
            "\u001b[0;31m---------------------------------------------------------------------------\u001b[0m",
            "\u001b[0;31mNameError\u001b[0m                                 Traceback (most recent call last)",
            "\u001b[0;32m<ipython-input-25-d29dfa186924>\u001b[0m in \u001b[0;36m<cell line: 1>\u001b[0;34m()\u001b[0m\n\u001b[0;32m----> 1\u001b[0;31m \u001b[0mauthor_reviews_sum\u001b[0m \u001b[0;34m=\u001b[0m \u001b[0mdata\u001b[0m\u001b[0;34m.\u001b[0m\u001b[0mgroupBy\u001b[0m\u001b[0;34m(\u001b[0m\u001b[0;34m'author'\u001b[0m\u001b[0;34m)\u001b[0m\u001b[0;34m.\u001b[0m\u001b[0magg\u001b[0m\u001b[0;34m(\u001b[0m\u001b[0mF\u001b[0m\u001b[0;34m.\u001b[0m\u001b[0msum\u001b[0m\u001b[0;34m(\u001b[0m\u001b[0;34m'reviews'\u001b[0m\u001b[0;34m)\u001b[0m\u001b[0;34m.\u001b[0m\u001b[0malias\u001b[0m\u001b[0;34m(\u001b[0m\u001b[0;34m'total_reviews'\u001b[0m\u001b[0;34m)\u001b[0m\u001b[0;34m)\u001b[0m\u001b[0;34m\u001b[0m\u001b[0;34m\u001b[0m\u001b[0m\n\u001b[0m\u001b[1;32m      2\u001b[0m \u001b[0;34m\u001b[0m\u001b[0m\n\u001b[1;32m      3\u001b[0m \u001b[0;31m#Сортування дані за спаданням суми рецензій\u001b[0m\u001b[0;34m\u001b[0m\u001b[0;34m\u001b[0m\u001b[0m\n\u001b[1;32m      4\u001b[0m \u001b[0mauthor_with_most_reviews\u001b[0m \u001b[0;34m=\u001b[0m \u001b[0mauthor_reviews_sum\u001b[0m\u001b[0;34m.\u001b[0m\u001b[0morderBy\u001b[0m\u001b[0;34m(\u001b[0m\u001b[0mauthor_reviews_sum\u001b[0m\u001b[0;34m[\u001b[0m\u001b[0;34m'total_reviews'\u001b[0m\u001b[0;34m]\u001b[0m\u001b[0;34m.\u001b[0m\u001b[0mdesc\u001b[0m\u001b[0;34m(\u001b[0m\u001b[0;34m)\u001b[0m\u001b[0;34m)\u001b[0m\u001b[0;34m.\u001b[0m\u001b[0mselect\u001b[0m\u001b[0;34m(\u001b[0m\u001b[0;34m'author'\u001b[0m\u001b[0;34m)\u001b[0m\u001b[0;34m.\u001b[0m\u001b[0mfirst\u001b[0m\u001b[0;34m(\u001b[0m\u001b[0;34m)\u001b[0m\u001b[0;34m[\u001b[0m\u001b[0;36m0\u001b[0m\u001b[0;34m]\u001b[0m\u001b[0;34m\u001b[0m\u001b[0;34m\u001b[0m\u001b[0m\n\u001b[1;32m      5\u001b[0m \u001b[0;34m\u001b[0m\u001b[0m\n",
            "\u001b[0;31mNameError\u001b[0m: name 'F' is not defined"
          ]
        }
      ]
    },
    {
      "cell_type": "code",
      "source": [
        "#Відбір книги з найвищим рейтингом\n",
        "top_books = data.orderBy(data['user_rating'].desc()).limit(10)\n",
        "\n",
        "#Конвертація DataFrame у Pandas DataFrame для побудови гістограми\n",
        "top_books_df = top_books.toPandas()\n",
        "\n",
        "#Побудова гістограми\n",
        "plt.hist(top_books_df['user_rating'], bins=10, color='skyblue', edgecolor='black')\n",
        "plt.xlabel('Рейтинг книги')\n",
        "plt.ylabel('Кількість книг')\n",
        "plt.title('Гістограма рейтингу 10 найкращих книг')\n",
        "plt.show()"
      ],
      "metadata": {
        "colab": {
          "base_uri": "https://localhost:8080/",
          "height": 472
        },
        "id": "QMJB8UGyDf8J",
        "outputId": "36cf1ae9-d57a-4657-ad7d-72cf691c209c"
      },
      "execution_count": 26,
      "outputs": [
        {
          "output_type": "display_data",
          "data": {
            "text/plain": [
              "<Figure size 640x480 with 1 Axes>"
            ],
            "image/png": "[encoded data removed]"
          },
          "metadata": {}
        }
      ]
    },
    {
      "cell_type": "code",
      "source": [
        "selected_columns = ['user_rating', 'reviews', 'price']\n",
        "selected_data = data.select(selected_columns)\n",
        "\n",
        "#Конвертація DataFrame у Pandas DataFrame\n",
        "selected_df = selected_data.toPandas()\n",
        "\n",
        "#Побудова матриці кореляції\n",
        "correlation_matrix = selected_df.corr()\n",
        "\n",
        "#Виведення матриці кореляції\n",
        "print(correlation_matrix)"
      ],
      "metadata": {
        "colab": {
          "base_uri": "https://localhost:8080/"
        },
        "id": "ILAthn-qDgN9",
        "outputId": "eae994ea-c454-4558-b87b-9ee7a9ba5e65"
      },
      "execution_count": 27,
      "outputs": [
        {
          "output_type": "stream",
          "name": "stdout",
          "text": [
            "             user_rating   reviews     price\n",
            "user_rating     1.000000 -0.001729 -0.133086\n",
            "reviews        -0.001729  1.000000 -0.109182\n",
            "price          -0.133086 -0.109182  1.000000\n"
          ]
        }
      ]
    },
    {
      "cell_type": "markdown",
      "source": [
        "Отже, у висновку ця лабораторна робота допомагає ліпше зрозуміти дані, що вона містить, та вивчити основні методи роботи з ними, такі як очистка даних, аналіз та візуалізація. Результати аналізу можуть бути корисними для прийняття рішень у сфері видавничої та книготоргівельної діяльності."
      ],
      "metadata": {
        "id": "hEHExH47_49r"
      }
    }
  ]
}