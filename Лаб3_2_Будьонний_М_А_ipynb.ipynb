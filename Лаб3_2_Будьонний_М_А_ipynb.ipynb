{
  "nbformat": 4,
  "nbformat_minor": 0,
  "metadata": {
    "colab": {
      "provenance": []
    },
    "kernelspec": {
      "name": "python3",
      "display_name": "Python 3"
    },
    "language_info": {
      "name": "python"
    }
  },
  "cells": [
    {
      "cell_type": "markdown",
      "source": [
        "Завдання 2.\n",
        "Розробитии варіаційний автокодувальник для датасету рукописних цифр MNIST на основі багатошарової моделі. Побудувати функцію втрат. Візуалізацію розпізнавання. Порівняти результати із звичайним автокодувальником.\n",
        "\n"
      ],
      "metadata": {
        "id": "T8521qKb7Y8l"
      }
    },
    {
      "cell_type": "code",
      "source": [
        "# Створення моделі варіаційного автокодувальника\n",
        "latent_dim = 2"
      ],
      "metadata": {
        "id": "PMtOD4Gn3syf"
      },
      "execution_count": 13,
      "outputs": []
    },
    {
      "cell_type": "code",
      "source": [
        "# Створення енкодеру\n",
        "encoder_inputs = layers.Input(shape=(20, 20, 1))\n",
        "x = layers.Conv2D(32, 3, activation='relu', strides=2, padding='same')(encoder_inputs)\n",
        "x = layers.Conv2D(64, 3, activation='relu', strides=2, padding='same')(x)\n",
        "x = layers.Flatten()(x)\n",
        "x = layers.Dense(16, activation='relu')(x)\n",
        "\n",
        "z_mean = layers.Dense(latent_dim, name='z_mean')(x)\n",
        "z_log_var = layers.Dense(latent_dim, name='z_log_var')(x)"
      ],
      "metadata": {
        "id": "wW-EM9wl3tUu"
      },
      "execution_count": 14,
      "outputs": []
    },
    {
      "cell_type": "code",
      "source": [
        "# Семплювання з latent space\n",
        "z = layers.Lambda(sampling)([z_mean, z_log_var])"
      ],
      "metadata": {
        "id": "xnQXox1B3vrO"
      },
      "execution_count": 15,
      "outputs": []
    },
    {
      "cell_type": "code",
      "source": [
        "# Створення декодеру\n",
        "decoder_inputs = layers.Input(shape=(latent_dim,))\n",
        "x = layers.Dense(5 * 5 * 64, activation='relu')(decoder_inputs)\n",
        "x = layers.Reshape((5, 5, 64))(x)\n",
        "x = layers.Conv2DTranspose(64, 3, activation='relu', strides=2, padding='same')(x)\n",
        "x = layers.Conv2DTranspose(32, 3, activation='relu', strides=2, padding='same')(x)\n",
        "decoder_outputs = layers.Conv2DTranspose(1, 3, activation='sigmoid', padding='same')(x)"
      ],
      "metadata": {
        "id": "VS-I55Yy3w7m"
      },
      "execution_count": 16,
      "outputs": []
    },
    {
      "cell_type": "code",
      "source": [
        "# Моделі енкодера та декодера\n",
        "encoder = models.Model(encoder_inputs, [z_mean, z_log_var, z], name='encoder')\n",
        "decoder = models.Model(decoder_inputs, decoder_outputs, name='decoder')"
      ],
      "metadata": {
        "id": "dUNwKhqp370i"
      },
      "execution_count": 17,
      "outputs": []
    },
    {
      "cell_type": "code",
      "source": [
        "# Варіаційний автокодувальник\n",
        "outputs = decoder(encoder(encoder_inputs)[2])\n",
        "vae = models.Model(encoder_inputs, outputs, name='vae')"
      ],
      "metadata": {
        "id": "Bmro0j5v38-6"
      },
      "execution_count": 18,
      "outputs": []
    },
    {
      "cell_type": "code",
      "execution_count": 19,
      "metadata": {
        "id": "HBbk9wSPZsPg"
      },
      "outputs": [],
      "source": [
        "# Функція втрат для варіаційного автокодувальника\n",
        "reconstruction_loss = tf.keras.losses.binary_crossentropy(encoder_inputs, outputs)\n",
        "reconstruction_loss *= 20 * 20\n",
        "kl_loss = 1 + z_log_var - tf.square(z_mean) - tf.exp(z_log_var)\n",
        "kl_loss = tf.reduce_mean(kl_loss)\n",
        "kl_loss *= -0.5\n",
        "vae_loss = tf.reduce_mean(reconstruction_loss + kl_loss)\n",
        "vae.add_loss(vae_loss)"
      ]
    },
    {
      "cell_type": "code",
      "source": [
        "# Компіляція та навчання моделі варіаційного автокодувальника\n",
        "vae.compile(optimizer='adam')\n",
        "vae.fit(x_train, x_train, epochs=10, batch_size=128, validation_data=(x_test, x_test))"
      ],
      "metadata": {
        "colab": {
          "base_uri": "https://localhost:8080/"
        },
        "id": "LTZhKE5E4AyW",
        "outputId": "db35aca4-4c43-48c5-b78e-c2e1e668fadd"
      },
      "execution_count": 20,
      "outputs": [
        {
          "output_type": "stream",
          "name": "stdout",
          "text": [
            "Epoch 1/10\n",
            "469/469 [==============================] - 70s 142ms/step - loss: 110.1829 - val_loss: 95.4518\n",
            "Epoch 2/10\n",
            "469/469 [==============================] - 60s 128ms/step - loss: 89.6497 - val_loss: 86.8902\n",
            "Epoch 3/10\n",
            "469/469 [==============================] - 62s 133ms/step - loss: 85.0405 - val_loss: 84.2480\n",
            "Epoch 4/10\n",
            "469/469 [==============================] - 60s 128ms/step - loss: 83.6938 - val_loss: 83.1268\n",
            "Epoch 5/10\n",
            "469/469 [==============================] - 61s 130ms/step - loss: 82.9036 - val_loss: 82.6667\n",
            "Epoch 6/10\n",
            "469/469 [==============================] - 63s 134ms/step - loss: 82.2987 - val_loss: 81.9426\n",
            "Epoch 7/10\n",
            "469/469 [==============================] - 62s 131ms/step - loss: 81.8482 - val_loss: 82.1136\n",
            "Epoch 8/10\n",
            "469/469 [==============================] - 65s 138ms/step - loss: 81.4215 - val_loss: 81.1141\n",
            "Epoch 9/10\n",
            "469/469 [==============================] - 62s 131ms/step - loss: 81.1123 - val_loss: 80.9096\n",
            "Epoch 10/10\n",
            "469/469 [==============================] - 61s 129ms/step - loss: 80.7724 - val_loss: 80.7950\n"
          ]
        },
        {
          "output_type": "execute_result",
          "data": {
            "text/plain": [
              "<keras.src.callbacks.History at 0x788a2770bfa0>"
            ]
          },
          "metadata": {},
          "execution_count": 20
        }
      ]
    },
    {
      "cell_type": "code",
      "source": [
        "# Візуалізація результатів\n",
        "import matplotlib.pyplot as plt"
      ],
      "metadata": {
        "id": "pjrvuUA74Cfg"
      },
      "execution_count": 21,
      "outputs": []
    },
    {
      "cell_type": "code",
      "source": [
        "# Вибір декількох зображень для відображення результатів\n",
        "num_images = 10\n",
        "random_test_images = np.random.randint(x_test.shape[0], size=num_images)"
      ],
      "metadata": {
        "id": "82aj2yCm4DL2"
      },
      "execution_count": 22,
      "outputs": []
    },
    {
      "cell_type": "code",
      "source": [
        "# Порівняння результатів зі звичайним автокодувальником\n",
        "decoded_imgs_vae = vae.predict(x_test)\n",
        "decoded_imgs_autoencoder = model.predict(x_test)"
      ],
      "metadata": {
        "colab": {
          "base_uri": "https://localhost:8080/"
        },
        "id": "dvO6umdI4EBH",
        "outputId": "cb2b7d7b-9e6f-4e4f-b8f7-10653699dbb4"
      },
      "execution_count": 23,
      "outputs": [
        {
          "output_type": "stream",
          "name": "stdout",
          "text": [
            "313/313 [==============================] - 4s 12ms/step\n",
            "313/313 [==============================] - 3s 11ms/step\n"
          ]
        }
      ]
    },
    {
      "cell_type": "code",
      "source": [
        "# Відображення результатів\n",
        "plt.figure(figsize=(18, 4))\n",
        "\n",
        "for i, image_idx in enumerate(random_test_images):\n",
        "    # Оригінальне зображення\n",
        "    ax = plt.subplot(3, num_images, i + 1)\n",
        "    plt.imshow(x_test[image_idx].reshape(20, 20))\n",
        "    plt.gray()\n",
        "    ax.get_xaxis().set_visible(False)\n",
        "    ax.get_yaxis().set_visible(False)\n",
        "\n",
        "    # Реконструйоване зображення варіаційного автокодувальника\n",
        "    ax = plt.subplot(3, num_images, num_images + i + 1)\n",
        "    plt.imshow(decoded_imgs_vae[image_idx].reshape(20, 20))\n",
        "    plt.gray()\n",
        "    ax.get_xaxis().set_visible(False)\n",
        "    ax.get_yaxis().set_visible(False)\n",
        "\n",
        "    # Реконструйоване зображення звичайного автокодувальника\n",
        "    ax = plt.subplot(3, num_images, 2 * num_images + i + 1)\n",
        "    plt.imshow(decoded_imgs_autoencoder[image_idx].reshape(20, 20))\n",
        "    plt.gray()\n",
        "    ax.get_xaxis().set_visible(False)\n",
        "    ax.get_yaxis().set_visible(False)\n",
        "\n",
        "plt.show()"
      ],
      "metadata": {
        "colab": {
          "base_uri": "https://localhost:8080/",
          "height": 242
        },
        "id": "d79i2fk4hqDF",
        "outputId": "d3ff6c26-f1db-44ee-8b58-bce7f200e461"
      },
      "execution_count": 24,
      "outputs": [
        {
          "output_type": "display_data",
          "data": {
            "text/plain": [
              "<Figure size 1800x400 with 30 Axes>"
            ],
            "image/png": "[encoded data removed]"
          },
          "metadata": {}
        }
      ]
    },
    {
      "cell_type": "markdown",
      "source": [
        "Отже, у висновку, можна сказати, що Модель варіаційного автокодувальника (VAE) була успішно створена та навчена на даних MNIST.\n",
        "\n",
        "Наша функція втрат для VAE включає дві складові: функцію втрати відновлення та KL-дивергенцію між розподілом зображень в латентному просторі та нормальним розподілом.А під час тренування функції втрати зменшилися, що свідчить про успіх моделі.\n",
        "\n",
        "Відновлені зображення за допомогою VAE та звичайного автокодувальника показують схожість у відтворенні вхідних зображень. А зображення отримані за допомогою VAE мають деяку відмінність від зображень, отриманих звичайним кодувальником.\n",
        "\n",
        "А це каже нам про те, що VAE здатен генерувати нові зображення, відмінні від вхідних.\n",
        "\n",
        "\n",
        "\n",
        "\n",
        "\n",
        "\n"
      ],
      "metadata": {
        "id": "Vr96tO5T-A4c"
      }
    }
  ]
}